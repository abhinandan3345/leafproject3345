{
 "cells": [
  {
   "cell_type": "code",
   "execution_count": 347,
   "id": "43ef85ac-940a-4d00-a26d-fb736404d908",
   "metadata": {},
   "outputs": [
    {
     "data": {
      "text/plain": [
       "keras.optimizer_v2.adam.Adam"
      ]
     },
     "execution_count": 347,
     "metadata": {},
     "output_type": "execute_result"
    }
   ],
   "source": [
    "import numpy as np\n",
    "import pandas as pd\n",
    "from pathlib import Path\n",
    "import os.path\n",
    "import matplotlib.pyplot as plt\n",
    "import tensorflow as tf\n",
    "from tensorflow.keras.preprocessing.image import load_img,img_to_array\n",
    "from sklearn.model_selection import train_test_split\n",
    "from sklearn.metrics import confusion_matrix, classification_report\n",
    "from keras.preprocessing.image import ImageDataGenerator\n",
    "from keras.models import Sequential\n",
    "from keras.layers import Conv2D, MaxPool2D, Flatten, Dense,Activation,MaxPooling2D,Dropout\n",
    "import seaborn as sns\n",
    "tf.optimizers.Adam"
   ]
  },
  {
   "cell_type": "code",
   "execution_count": 348,
   "id": "9b5e7dee-4c3c-4b48-a6ae-ce3859751a5a",
   "metadata": {},
   "outputs": [],
   "source": [
    "train_dir = Path(r'D:\\CDAC SOFTWARE\\abhinandan\\CDAC\\Project\\LeafProject\\Leaf Project Contents\\FINALDATASET')"
   ]
  },
  {
   "cell_type": "code",
   "execution_count": 349,
   "id": "b5c44e21-ff2e-442e-92d4-666a20f13e9d",
   "metadata": {},
   "outputs": [],
   "source": [
    "train_filepaths = list(train_dir.glob(r'**/*.jpg'))"
   ]
  },
  {
   "cell_type": "code",
   "execution_count": 350,
   "id": "2ce424c3-c9f6-4071-a035-5fe68ce5fb47",
   "metadata": {},
   "outputs": [
    {
     "data": {
      "text/plain": [
       "[WindowsPath('D:/CDAC SOFTWARE/abhinandan/CDAC/Project/LeafProject/Leaf Project Contents/FINALDATASET/Aam/MI-S-002.jpg'),\n",
       " WindowsPath('D:/CDAC SOFTWARE/abhinandan/CDAC/Project/LeafProject/Leaf Project Contents/FINALDATASET/Aam/MI-S-003.jpg'),\n",
       " WindowsPath('D:/CDAC SOFTWARE/abhinandan/CDAC/Project/LeafProject/Leaf Project Contents/FINALDATASET/Aam/MI-S-004.jpg'),\n",
       " WindowsPath('D:/CDAC SOFTWARE/abhinandan/CDAC/Project/LeafProject/Leaf Project Contents/FINALDATASET/Aam/MI-S-005.jpg')]"
      ]
     },
     "execution_count": 350,
     "metadata": {},
     "output_type": "execute_result"
    }
   ],
   "source": [
    "train_filepaths[1:5]"
   ]
  },
  {
   "cell_type": "code",
   "execution_count": 351,
   "id": "69f23685-901d-455f-9016-52f0bed7aee4",
   "metadata": {},
   "outputs": [],
   "source": [
    "filepath = pd.Series(train_filepaths,name='Filepath').astype(str)"
   ]
  },
  {
   "cell_type": "code",
   "execution_count": 352,
   "id": "8a2e5018-faeb-498c-aebb-3798b929edb7",
   "metadata": {},
   "outputs": [],
   "source": [
    "labels = []\n",
    "for i in range(len(filepath)):\n",
    "    \n",
    "    # list.append(i)\n",
    "\n",
    "    label=str(train_filepaths[i]).split('\\\\')[-2].split(\".\",1)[0]\n",
    "    labels.append(label)\n",
    "    \n",
    "    \n",
    "    # labels = pd.Series(labels, name='Labels')"
   ]
  },
  {
   "cell_type": "code",
   "execution_count": 353,
   "id": "ed7055ac-713d-4a3d-bdbf-a5678f76107f",
   "metadata": {},
   "outputs": [
    {
     "data": {
      "text/plain": [
       "['Aam', 'Aam', 'Aam', 'Aam']"
      ]
     },
     "execution_count": 353,
     "metadata": {},
     "output_type": "execute_result"
    }
   ],
   "source": [
    "labels[1:5]"
   ]
  },
  {
   "cell_type": "code",
   "execution_count": 354,
   "id": "dbaf2712-da6f-4887-aa9d-3ed3942b1694",
   "metadata": {},
   "outputs": [
    {
     "data": {
      "text/plain": [
       "[WindowsPath('D:/CDAC SOFTWARE/abhinandan/CDAC/Project/LeafProject/Leaf Project Contents/FINALDATASET/Aam/MI-S-002.jpg'),\n",
       " WindowsPath('D:/CDAC SOFTWARE/abhinandan/CDAC/Project/LeafProject/Leaf Project Contents/FINALDATASET/Aam/MI-S-003.jpg'),\n",
       " WindowsPath('D:/CDAC SOFTWARE/abhinandan/CDAC/Project/LeafProject/Leaf Project Contents/FINALDATASET/Aam/MI-S-004.jpg'),\n",
       " WindowsPath('D:/CDAC SOFTWARE/abhinandan/CDAC/Project/LeafProject/Leaf Project Contents/FINALDATASET/Aam/MI-S-005.jpg')]"
      ]
     },
     "execution_count": 354,
     "metadata": {},
     "output_type": "execute_result"
    }
   ],
   "source": [
    "train_filepaths[1:5]"
   ]
  },
  {
   "cell_type": "code",
   "execution_count": null,
   "id": "284eddba-bf56-4cc8-b176-251bb0d0bc0b",
   "metadata": {},
   "outputs": [],
   "source": []
  },
  {
   "cell_type": "code",
   "execution_count": 355,
   "id": "470eeab4-b13f-4778-8903-fd2379515a79",
   "metadata": {},
   "outputs": [],
   "source": [
    "filepath = pd.Series(train_filepaths, name='Filepath').astype(str)\n",
    "labels = pd.Series(labels, name='Label')\n",
    "df = pd.concat([filepath, labels], axis=1)\n",
    "df = df.sample(frac=1).reset_index(drop = True)"
   ]
  },
  {
   "cell_type": "code",
   "execution_count": 356,
   "id": "36b87a76-e386-4b48-92b2-fd55b4a20836",
   "metadata": {},
   "outputs": [
    {
     "data": {
      "text/html": [
       "<div>\n",
       "<style scoped>\n",
       "    .dataframe tbody tr th:only-of-type {\n",
       "        vertical-align: middle;\n",
       "    }\n",
       "\n",
       "    .dataframe tbody tr th {\n",
       "        vertical-align: top;\n",
       "    }\n",
       "\n",
       "    .dataframe thead th {\n",
       "        text-align: right;\n",
       "    }\n",
       "</style>\n",
       "<table border=\"1\" class=\"dataframe\">\n",
       "  <thead>\n",
       "    <tr style=\"text-align: right;\">\n",
       "      <th></th>\n",
       "      <th>Filepath</th>\n",
       "      <th>Label</th>\n",
       "    </tr>\n",
       "  </thead>\n",
       "  <tbody>\n",
       "    <tr>\n",
       "      <th>0</th>\n",
       "      <td>D:\\CDAC SOFTWARE\\abhinandan\\CDAC\\Project\\LeafP...</td>\n",
       "      <td>Aam</td>\n",
       "    </tr>\n",
       "    <tr>\n",
       "      <th>1</th>\n",
       "      <td>D:\\CDAC SOFTWARE\\abhinandan\\CDAC\\Project\\LeafP...</td>\n",
       "      <td>Giloy</td>\n",
       "    </tr>\n",
       "    <tr>\n",
       "      <th>2</th>\n",
       "      <td>D:\\CDAC SOFTWARE\\abhinandan\\CDAC\\Project\\LeafP...</td>\n",
       "      <td>Giloy</td>\n",
       "    </tr>\n",
       "    <tr>\n",
       "      <th>3</th>\n",
       "      <td>D:\\CDAC SOFTWARE\\abhinandan\\CDAC\\Project\\LeafP...</td>\n",
       "      <td>Anaar</td>\n",
       "    </tr>\n",
       "    <tr>\n",
       "      <th>4</th>\n",
       "      <td>D:\\CDAC SOFTWARE\\abhinandan\\CDAC\\Project\\LeafP...</td>\n",
       "      <td>Peepal</td>\n",
       "    </tr>\n",
       "  </tbody>\n",
       "</table>\n",
       "</div>"
      ],
      "text/plain": [
       "                                            Filepath   Label\n",
       "0  D:\\CDAC SOFTWARE\\abhinandan\\CDAC\\Project\\LeafP...     Aam\n",
       "1  D:\\CDAC SOFTWARE\\abhinandan\\CDAC\\Project\\LeafP...   Giloy\n",
       "2  D:\\CDAC SOFTWARE\\abhinandan\\CDAC\\Project\\LeafP...   Giloy\n",
       "3  D:\\CDAC SOFTWARE\\abhinandan\\CDAC\\Project\\LeafP...   Anaar\n",
       "4  D:\\CDAC SOFTWARE\\abhinandan\\CDAC\\Project\\LeafP...  Peepal"
      ]
     },
     "execution_count": 356,
     "metadata": {},
     "output_type": "execute_result"
    }
   ],
   "source": [
    "train_df=df\n",
    "train_df.head()"
   ]
  },
  {
   "cell_type": "code",
   "execution_count": 357,
   "id": "8073d4ca-0587-414a-bb56-26eb439790b8",
   "metadata": {},
   "outputs": [
    {
     "name": "stdout",
     "output_type": "stream",
     "text": [
      "-- Training set --\n",
      "\n",
      "Number of pictures: 2146\n",
      "\n",
      "Number of different labels: 32\n",
      "\n",
      "Labels: ['Aam', 'Giloy', 'Anaar', 'Peepal', 'Arhul', 'Sarso', 'Amrud', 'Jackfruit', 'Tindora', 'Jamaica Cherry', 'Harive-Dantu', 'Ghrit Kumari', 'Karanda', 'Pudina', 'Curry', 'Mogra', 'Tulsi', 'Chandan', 'Neem', 'Parijata', 'Rasna', 'Nimbu', 'Rose Apple', 'Chandni', 'Phagoora', 'Drumstick', 'Malabar spinach', 'Karanja', 'Mithi', 'Jamun', 'Paan', 'Oleander']\n"
     ]
    }
   ],
   "source": [
    "print('-- Training set --\\n')\n",
    "print(f'Number of pictures: {train_df.shape[0]}\\n')\n",
    "print(f'Number of different labels: {len(train_df.Label.unique())}\\n')\n",
    "print(f'Labels: {train_df.Label.unique().tolist()}')"
   ]
  },
  {
   "cell_type": "markdown",
   "id": "44545300-4d33-4579-9b41-0e431cd92152",
   "metadata": {},
   "source": [
    "# Preprocessing Data"
   ]
  },
  {
   "cell_type": "code",
   "execution_count": 358,
   "id": "18d0b282-d17a-47ac-82e5-36ce0523fcd6",
   "metadata": {},
   "outputs": [],
   "source": [
    "train_DataGenerator = ImageDataGenerator(\n",
    "    rescale=1/255,\n",
    "    validation_split=0.2\n",
    ")\n",
    "\n",
    "test_DataGenerator = ImageDataGenerator(\n",
    "    rescale=1/255,\n",
    ")"
   ]
  },
  {
   "cell_type": "code",
   "execution_count": null,
   "id": "c9466321-3207-4e7e-955d-b4b741ef9af1",
   "metadata": {},
   "outputs": [],
   "source": []
  },
  {
   "cell_type": "code",
   "execution_count": 359,
   "id": "92270963-408e-4bd8-ae1e-b86c80929387",
   "metadata": {},
   "outputs": [],
   "source": [
    "train_df, test_df = train_test_split(train_df, \n",
    "                                     test_size=0.2, \n",
    "                                     shuffle=True, \n",
    "                                     random_state=1)"
   ]
  },
  {
   "cell_type": "code",
   "execution_count": 360,
   "id": "139505b0-c354-46bb-861e-d120244a179b",
   "metadata": {},
   "outputs": [
    {
     "name": "stdout",
     "output_type": "stream",
     "text": [
      "Found 1373 validated image filenames belonging to 32 classes.\n"
     ]
    }
   ],
   "source": [
    "train_images = train_DataGenerator.flow_from_dataframe(\n",
    "    dataframe=train_df,\n",
    "    x_col='Filepath',\n",
    "    y_col='Label',\n",
    "    directory = train_dir,\n",
    "    target_size=(128, 128),\n",
    "    class_mode=\"categorical\",\n",
    "    seed=42,\n",
    "    subset='training'\n",
    ")"
   ]
  },
  {
   "cell_type": "code",
   "execution_count": 361,
   "id": "06d7a0ac-972e-4ed6-93dd-335a22e13091",
   "metadata": {},
   "outputs": [
    {
     "name": "stdout",
     "output_type": "stream",
     "text": [
      "Found 343 validated image filenames belonging to 32 classes.\n"
     ]
    }
   ],
   "source": [
    "val_images = train_DataGenerator.flow_from_dataframe(\n",
    "    dataframe=train_df,\n",
    "    x_col='Filepath',\n",
    "    y_col='Label',\n",
    "    directory = train_dir,\n",
    "    target_size=(128, 128),\n",
    "    class_mode=\"categorical\",\n",
    "    seed=42,\n",
    "    subset='validation'\n",
    ")\n"
   ]
  },
  {
   "cell_type": "code",
   "execution_count": 362,
   "id": "d9aec8a1-cee3-421c-9a2b-05bad863234c",
   "metadata": {},
   "outputs": [
    {
     "name": "stdout",
     "output_type": "stream",
     "text": [
      "Found 430 validated image filenames belonging to 32 classes.\n"
     ]
    }
   ],
   "source": [
    "test_images = test_DataGenerator.flow_from_dataframe(\n",
    "    dataframe=test_df,\n",
    "    x_col='Filepath',\n",
    "    y_col='Label',\n",
    "    directory = train_dir,\n",
    "    target_size=(128, 128),\n",
    "    class_mode=\"categorical\"\n",
    ")"
   ]
  },
  {
   "cell_type": "code",
   "execution_count": null,
   "id": "5a5c0550-7350-43dc-8d36-2ebb31ff38cf",
   "metadata": {},
   "outputs": [],
   "source": []
  },
  {
   "cell_type": "code",
   "execution_count": 363,
   "id": "03d5c445-4220-40ed-87fa-d11195c605cd",
   "metadata": {},
   "outputs": [
    {
     "data": {
      "text/plain": [
       "((128, 128, 3), (128, 128, 3))"
      ]
     },
     "execution_count": 363,
     "metadata": {},
     "output_type": "execute_result"
    }
   ],
   "source": [
    "test_images.image_shape, train_images.image_shape"
   ]
  },
  {
   "cell_type": "markdown",
   "id": "3d99e57a-e902-4bed-89d2-44f7bf3ac53f",
   "metadata": {},
   "source": [
    "# Using Normal CNN Model "
   ]
  },
  {
   "cell_type": "code",
   "execution_count": 364,
   "id": "827d6ab9-b0b1-4e8f-a310-d6f2dfd7a173",
   "metadata": {},
   "outputs": [],
   "source": [
    "# Create a Sqequntial model object\n",
    "model = Sequential()\n",
    "\n",
    "# Add first Conv and pool layers\n",
    "model.add(Conv2D(filters = 32, \n",
    "                 kernel_size = (3,3), \n",
    "                 activation = \"relu\", \n",
    "                 input_shape = (128, 128, 3),\n",
    "                 name= \"Input_Layer\"))\n",
    "model.add(MaxPool2D((2,2), name = \"Pooling_1\"))\n",
    "\n",
    "# 2nd Conv and pool layers\n",
    "model.add(Conv2D(filters = 32, \n",
    "                 kernel_size = (3,3), \n",
    "                 activation = \"relu\", \n",
    "                 name= \"Conv_Layer\"))\n",
    "model.add(MaxPool2D((2,2), name = \"Pooling_2\"))\n",
    "# 3rd Conv and pool layers\n",
    "model.add(Conv2D(filters = 64, \n",
    "                kernel_size = (3,3), \n",
    "                activation = \"relu\", \n",
    "                name= \"Conv_Layer3\"))\n",
    "model.add(MaxPool2D((2,2), name = \"Pooling_3\"))\n",
    "#4th Conv and pool layers\n",
    "model.add(Conv2D(filters = 64, \n",
    "                 kernel_size = (3,3), \n",
    "                 activation = \"relu\", \n",
    "                 name= \"Conv_Layer4\"))\n",
    "model.add(MaxPool2D((2,2), name = \"Pooling_4\"))\n",
    "\n",
    "# Flatten the output of 2nd conv layer\n",
    "model.add(Flatten())\n",
    "\n",
    "# Add FC layers\n",
    "model.add(Dense(128, activation=\"relu\", name=\"Dense_1\")) # FC1\n",
    "model.add(Dense(64, activation=\"relu\", name=\"Dense_2\")) # FC2\n",
    "model.add(Dense(32, activation=\"softmax\", name=\"Output_Layer\")) # FC3 - Output FC layer"
   ]
  },
  {
   "cell_type": "code",
   "execution_count": 365,
   "id": "af2911de-dd93-4230-96f0-bb9c9813bbca",
   "metadata": {},
   "outputs": [],
   "source": [
    "import visualkeras\n",
    "from PIL import ImageFont"
   ]
  },
  {
   "cell_type": "code",
   "execution_count": 378,
   "id": "06971486-e57e-4a32-9586-f48e1725922e",
   "metadata": {},
   "outputs": [
    {
     "data": {
      "image/png": "[encoded data removed]",
      "text/plain": [
       "<PIL.Image.Image image mode=RGBA size=835x204 at 0x21B3B751120>"
      ]
     },
     "execution_count": 378,
     "metadata": {},
     "output_type": "execute_result"
    }
   ],
   "source": [
    "visualkeras.layered_view(model, scale_xy=1,scale_z=1,legend=True,max_z=100)"
   ]
  },
  {
   "cell_type": "markdown",
   "id": "78f8038d-de5e-4054-a74f-96d0f1d538b8",
   "metadata": {
    "tags": []
   },
   "source": [
    " # Using deep neural network"
   ]
  },
  {
   "cell_type": "code",
   "execution_count": 369,
   "id": "d33047e1-27d6-4856-8519-e67e6fb40101",
   "metadata": {},
   "outputs": [],
   "source": [
    "# model = Sequential()\n",
    "    \n",
    "# model.add(Conv2D(input_shape= (128,128,3),filters = 50, kernel_size = (3,3), strides = (1,1), padding = 'same'))\n",
    "# model.add(Activation('relu'))\n",
    "# model.add(Conv2D(filters = 50, kernel_size = (3,3), strides = (1,1), padding = 'same'))\n",
    "# model.add(Activation('relu'))\n",
    "# model.add(MaxPooling2D(pool_size = (2,2)))\n",
    "# model.add(Conv2D(filters = 50, kernel_size = (3,3), strides = (1,1), padding = 'same'))\n",
    "# model.add(Activation('relu'))\n",
    "# model.add(Dropout(rate = 0.25, seed = 500))\n",
    "# model.add(MaxPooling2D(pool_size = (2,2)))\n",
    "    \n",
    "# # prior layer should be flattend to be connected to dense layers\n",
    "# model.add(Flatten())\n",
    "#     # dense layer with 50 neurons\n",
    "# model.add(Dense(50, activation = 'relu'))\n",
    "#     # final layer with 10 neurons to classify the instances\n",
    "# model.add(Dense(10, activation = 'softmax'))"
   ]
  },
  {
   "cell_type": "code",
   "execution_count": 370,
   "id": "2ffc30ea-fada-42e4-ac1a-f08203de189b",
   "metadata": {},
   "outputs": [
    {
     "name": "stdout",
     "output_type": "stream",
     "text": [
      "Model: \"sequential_10\"\n",
      "_________________________________________________________________\n",
      " Layer (type)                Output Shape              Param #   \n",
      "=================================================================\n",
      " Input_Layer (Conv2D)        (None, 126, 126, 32)      896       \n",
      "                                                                 \n",
      " Pooling_1 (MaxPooling2D)    (None, 63, 63, 32)        0         \n",
      "                                                                 \n",
      " Conv_Layer (Conv2D)         (None, 61, 61, 32)        9248      \n",
      "                                                                 \n",
      " Pooling_2 (MaxPooling2D)    (None, 30, 30, 32)        0         \n",
      "                                                                 \n",
      " Conv_Layer3 (Conv2D)        (None, 28, 28, 64)        18496     \n",
      "                                                                 \n",
      " Pooling_3 (MaxPooling2D)    (None, 14, 14, 64)        0         \n",
      "                                                                 \n",
      " Conv_Layer4 (Conv2D)        (None, 12, 12, 64)        36928     \n",
      "                                                                 \n",
      " Pooling_4 (MaxPooling2D)    (None, 6, 6, 64)          0         \n",
      "                                                                 \n",
      " flatten_10 (Flatten)        (None, 2304)              0         \n",
      "                                                                 \n",
      " Dense_1 (Dense)             (None, 128)               295040    \n",
      "                                                                 \n",
      " Dense_2 (Dense)             (None, 64)                8256      \n",
      "                                                                 \n",
      " Output_Layer (Dense)        (None, 32)                2080      \n",
      "                                                                 \n",
      "=================================================================\n",
      "Total params: 370,944\n",
      "Trainable params: 370,944\n",
      "Non-trainable params: 0\n",
      "_________________________________________________________________\n"
     ]
    }
   ],
   "source": [
    "model.summary()"
   ]
  },
  {
   "cell_type": "markdown",
   "id": "fe13c4a4-351e-403b-8b9f-f7d41a176238",
   "metadata": {},
   "source": [
    "# Using Optimizers"
   ]
  },
  {
   "cell_type": "markdown",
   "id": "b255f7b9-242d-43cf-9f4d-7401d2c9113f",
   "metadata": {},
   "source": [
    "## First Approch "
   ]
  },
  {
   "cell_type": "code",
   "execution_count": 371,
   "id": "2c891e61-9a4a-4444-8521-ead42f052fed",
   "metadata": {},
   "outputs": [],
   "source": [
    "# adam = tf.keras.optimizers.Adam( learning_rate=0.001)"
   ]
  },
  {
   "cell_type": "code",
   "execution_count": 372,
   "id": "ee618b7d-1883-4bb6-b820-9194ae41a3bd",
   "metadata": {},
   "outputs": [],
   "source": [
    "model.compile(\n",
    "    optimizer=\"adam\", # with RMS accuracy is less around 20 percent with 2 epoc\n",
    "    loss=\"categorical_crossentropy\", # Since there are only two classes\n",
    "    metrics=\"accuracy\"\n",
    ")"
   ]
  },
  {
   "cell_type": "markdown",
   "id": "249cb544-24f1-4eda-963b-2df8ce7508b6",
   "metadata": {},
   "source": [
    "# Building a model "
   ]
  },
  {
   "cell_type": "markdown",
   "id": "0fed3eac-3e3b-4c05-b2e8-e33d9466d7ba",
   "metadata": {},
   "source": [
    "## Normal CNN model "
   ]
  },
  {
   "cell_type": "code",
   "execution_count": 373,
   "id": "fe28b0d9-f62d-47e6-9007-26657b241fc5",
   "metadata": {},
   "outputs": [
    {
     "name": "stdout",
     "output_type": "stream",
     "text": [
      "Epoch 1/30\n",
      "43/43 [==============================] - 65s 1s/step - loss: 3.3968 - accuracy: 0.1129 - val_loss: 3.2411 - val_accuracy: 0.1808\n",
      "Epoch 2/30\n",
      "43/43 [==============================] - 38s 882ms/step - loss: 2.5639 - accuracy: 0.3146 - val_loss: 1.9481 - val_accuracy: 0.4227\n",
      "Epoch 3/30\n",
      "43/43 [==============================] - 37s 870ms/step - loss: 1.5887 - accuracy: 0.5149 - val_loss: 1.4147 - val_accuracy: 0.5860\n",
      "Epoch 4/30\n",
      "43/43 [==============================] - 41s 951ms/step - loss: 1.1365 - accuracy: 0.6438 - val_loss: 1.0936 - val_accuracy: 0.6647\n",
      "Epoch 5/30\n",
      "43/43 [==============================] - 61s 1s/step - loss: 0.8809 - accuracy: 0.7385 - val_loss: 1.0484 - val_accuracy: 0.7026\n",
      "Epoch 6/30\n",
      "43/43 [==============================] - 52s 1s/step - loss: 0.7322 - accuracy: 0.7742 - val_loss: 0.9772 - val_accuracy: 0.7230\n",
      "Epoch 7/30\n",
      "43/43 [==============================] - 49s 1s/step - loss: 0.5840 - accuracy: 0.8150 - val_loss: 1.0356 - val_accuracy: 0.6968\n",
      "Epoch 8/30\n",
      "43/43 [==============================] - 49s 1s/step - loss: 0.4801 - accuracy: 0.8463 - val_loss: 1.0241 - val_accuracy: 0.7259\n",
      "Epoch 9/30\n",
      "43/43 [==============================] - 53s 1s/step - loss: 0.3989 - accuracy: 0.8733 - val_loss: 0.9208 - val_accuracy: 0.7843\n",
      "Epoch 10/30\n",
      "43/43 [==============================] - 53s 1s/step - loss: 0.3097 - accuracy: 0.8958 - val_loss: 0.9265 - val_accuracy: 0.7697\n",
      "Epoch 11/30\n",
      "43/43 [==============================] - 50s 1s/step - loss: 0.2792 - accuracy: 0.9082 - val_loss: 0.9637 - val_accuracy: 0.7609\n",
      "Epoch 12/30\n",
      "43/43 [==============================] - 50s 1s/step - loss: 0.2881 - accuracy: 0.9075 - val_loss: 0.9724 - val_accuracy: 0.7551\n",
      "Epoch 13/30\n",
      "43/43 [==============================] - 48s 1s/step - loss: 0.1972 - accuracy: 0.9374 - val_loss: 1.0406 - val_accuracy: 0.7726\n",
      "Epoch 14/30\n",
      "43/43 [==============================] - 47s 1s/step - loss: 0.2076 - accuracy: 0.9272 - val_loss: 0.8991 - val_accuracy: 0.7872\n",
      "Epoch 15/30\n",
      "43/43 [==============================] - 38s 879ms/step - loss: 0.1562 - accuracy: 0.9483 - val_loss: 0.9303 - val_accuracy: 0.8105\n",
      "Epoch 16/30\n",
      "43/43 [==============================] - 44s 1s/step - loss: 0.1099 - accuracy: 0.9665 - val_loss: 1.0578 - val_accuracy: 0.8105\n",
      "Epoch 17/30\n",
      "43/43 [==============================] - 37s 871ms/step - loss: 0.1483 - accuracy: 0.9548 - val_loss: 1.2105 - val_accuracy: 0.7843\n",
      "Epoch 18/30\n",
      "43/43 [==============================] - 38s 877ms/step - loss: 0.1306 - accuracy: 0.9578 - val_loss: 0.9754 - val_accuracy: 0.8309\n",
      "Epoch 19/30\n",
      "43/43 [==============================] - 37s 868ms/step - loss: 0.0579 - accuracy: 0.9789 - val_loss: 1.2162 - val_accuracy: 0.8163\n",
      "Epoch 20/30\n",
      "43/43 [==============================] - 37s 864ms/step - loss: 0.0921 - accuracy: 0.9680 - val_loss: 1.1320 - val_accuracy: 0.7726\n",
      "Epoch 21/30\n",
      "43/43 [==============================] - 37s 865ms/step - loss: 0.0458 - accuracy: 0.9847 - val_loss: 1.1712 - val_accuracy: 0.8222\n",
      "Epoch 22/30\n",
      "43/43 [==============================] - 37s 864ms/step - loss: 0.0773 - accuracy: 0.9767 - val_loss: 1.1695 - val_accuracy: 0.7901\n",
      "Epoch 23/30\n",
      "43/43 [==============================] - 39s 901ms/step - loss: 0.0703 - accuracy: 0.9774 - val_loss: 1.2808 - val_accuracy: 0.7872\n",
      "Epoch 24/30\n",
      "43/43 [==============================] - 38s 878ms/step - loss: 0.0778 - accuracy: 0.9767 - val_loss: 1.0308 - val_accuracy: 0.8105\n",
      "Epoch 25/30\n",
      "43/43 [==============================] - 37s 868ms/step - loss: 0.0473 - accuracy: 0.9869 - val_loss: 1.3462 - val_accuracy: 0.7784\n",
      "Epoch 26/30\n",
      "43/43 [==============================] - 37s 862ms/step - loss: 0.1238 - accuracy: 0.9643 - val_loss: 1.1353 - val_accuracy: 0.8017\n",
      "Epoch 27/30\n",
      "43/43 [==============================] - 42s 976ms/step - loss: 0.0538 - accuracy: 0.9825 - val_loss: 1.1331 - val_accuracy: 0.8105\n",
      "Epoch 28/30\n",
      "43/43 [==============================] - 43s 1000ms/step - loss: 0.0380 - accuracy: 0.9898 - val_loss: 0.9645 - val_accuracy: 0.8367\n",
      "Epoch 29/30\n",
      "43/43 [==============================] - 42s 968ms/step - loss: 0.0110 - accuracy: 0.9978 - val_loss: 1.1566 - val_accuracy: 0.8280\n",
      "Epoch 30/30\n",
      "43/43 [==============================] - 41s 961ms/step - loss: 0.0261 - accuracy: 0.9949 - val_loss: 0.9627 - val_accuracy: 0.8105\n"
     ]
    }
   ],
   "source": [
    "# Build/Train the model using CNN\n",
    "leaf_model = model.fit(\n",
    "    train_images,\n",
    "    epochs = 30,\n",
    "    validation_data=val_images\n",
    ")"
   ]
  },
  {
   "cell_type": "markdown",
   "id": "c57e48f9-eab4-4ea4-89b9-6eb4fe68dfeb",
   "metadata": {},
   "source": [
    " * 30 epoches are required to get the maximum accuracy *"
   ]
  },
  {
   "cell_type": "markdown",
   "id": "bc747f0c-829b-4c41-bb59-3392c367f2f1",
   "metadata": {
    "tags": []
   },
   "source": [
    "## Deep CNN model "
   ]
  },
  {
   "cell_type": "code",
   "execution_count": 42,
   "id": "d136f036-a7af-4d61-9470-30ed620a4723",
   "metadata": {},
   "outputs": [
    {
     "name": "stdout",
     "output_type": "stream",
     "text": [
      "Epoch 1/10\n",
      "17/17 [==============================] - 67s 4s/step - loss: 2.4688 - accuracy: 0.1300 - val_loss: 2.2443 - val_accuracy: 0.1538\n",
      "Epoch 2/10\n",
      "17/17 [==============================] - 60s 3s/step - loss: 2.0724 - accuracy: 0.2715 - val_loss: 1.9643 - val_accuracy: 0.2769\n",
      "Epoch 3/10\n",
      "17/17 [==============================] - 58s 3s/step - loss: 1.6933 - accuracy: 0.4015 - val_loss: 1.6260 - val_accuracy: 0.4308\n",
      "Epoch 4/10\n",
      "17/17 [==============================] - 56s 3s/step - loss: 1.3507 - accuracy: 0.5105 - val_loss: 1.3956 - val_accuracy: 0.5231\n",
      "Epoch 5/10\n",
      "17/17 [==============================] - 63s 4s/step - loss: 1.0463 - accuracy: 0.6348 - val_loss: 1.2344 - val_accuracy: 0.5231\n",
      "Epoch 6/10\n",
      "17/17 [==============================] - 59s 3s/step - loss: 0.8907 - accuracy: 0.7132 - val_loss: 1.3352 - val_accuracy: 0.5462\n",
      "Epoch 7/10\n",
      "17/17 [==============================] - 57s 3s/step - loss: 0.7974 - accuracy: 0.7075 - val_loss: 1.2281 - val_accuracy: 0.5846\n",
      "Epoch 8/10\n",
      "17/17 [==============================] - 60s 4s/step - loss: 0.5677 - accuracy: 0.7992 - val_loss: 1.1075 - val_accuracy: 0.6538\n",
      "Epoch 9/10\n",
      "17/17 [==============================] - 56s 3s/step - loss: 0.4768 - accuracy: 0.8547 - val_loss: 1.2057 - val_accuracy: 0.6231\n",
      "Epoch 10/10\n",
      "17/17 [==============================] - 57s 3s/step - loss: 0.3583 - accuracy: 0.8738 - val_loss: 1.1487 - val_accuracy: 0.6077\n"
     ]
    }
   ],
   "source": [
    "# leaf_model = model.fit(\n",
    "#     train_images,\n",
    "#     epochs = 10,\n",
    "#     validation_data=val_images\n",
    "# )"
   ]
  },
  {
   "cell_type": "markdown",
   "id": "ecd1c46d-a4e8-4dff-b337-0170e43af61c",
   "metadata": {},
   "source": [
    "* With deep CNN the accuracy is less than normal CNN *"
   ]
  },
  {
   "cell_type": "code",
   "execution_count": 390,
   "id": "04824758-5e4e-4a1d-979a-91199c0c15d0",
   "metadata": {},
   "outputs": [
    {
     "data": {
      "image/png": "[encoded data removed]",
      "text/plain": [
       "<Figure size 432x288 with 1 Axes>"
      ]
     },
     "metadata": {
      "needs_background": "light"
     },
     "output_type": "display_data"
    }
   ],
   "source": [
    "plt.plot(leaf_model.history['accuracy'], label=\"train_accuracy\")\n",
    "plt.plot(leaf_model.history['val_accuracy'], label=\"val_accuracy\")\n",
    "plt.plot(leaf_model.history['loss'], label=\"loss\")\n",
    "plt.xlabel(\"Epochs\")\n",
    "plt.ylabel(\"Accuracy\")\n",
    "plt.legend()\n",
    "plt.show()"
   ]
  },
  {
   "cell_type": "markdown",
   "id": "e53a1cbb-5468-4aaa-bd6a-b970cc1d3acb",
   "metadata": {},
   "source": [
    "## model for normal CNN"
   ]
  },
  {
   "cell_type": "code",
   "execution_count": 380,
   "id": "57ae9275-0e3d-48e0-9416-1b585b44141c",
   "metadata": {},
   "outputs": [],
   "source": [
    "model.save(\"./models/leaf_model4.h5\", save_format='h5')"
   ]
  },
  {
   "cell_type": "code",
   "execution_count": 381,
   "id": "5697c524-a7fb-4b9a-a1be-ffc5de0aead8",
   "metadata": {},
   "outputs": [
    {
     "name": "stdout",
     "output_type": "stream",
     "text": [
      "14/14 [==============================] - 17s 1s/step - loss: 0.8068 - accuracy: 0.8233\n"
     ]
    },
    {
     "data": {
      "text/plain": [
       "[0.8067746758460999, 0.8232558369636536]"
      ]
     },
     "execution_count": 381,
     "metadata": {},
     "output_type": "execute_result"
    }
   ],
   "source": [
    "model.evaluate(test_images)"
   ]
  },
  {
   "cell_type": "markdown",
   "id": "4efff856-f510-4db0-a0f9-a0cd23b24c1d",
   "metadata": {},
   "source": [
    "* With normal CNN the accuracy is 70 percent with 10 epoches*\n",
    "* With normal CNN the with more the train accuracy is 87 percent accuracy but test accuracy is 83.95 percent with 20 epoches*\n",
    "* With normal CNN and less layers the train accuracy is 100 percent but test accuracy is 81.1 with 20 epoches*\n",
    "* With normal CNN and with more the train accuracy is 100 percent but test accuracy is 88.37 with 30 epoches*"
   ]
  },
  {
   "cell_type": "code",
   "execution_count": null,
   "id": "00423afa-051d-47fc-912c-a0ecf7dbc29e",
   "metadata": {},
   "outputs": [],
   "source": []
  },
  {
   "cell_type": "markdown",
   "id": "c5af5a87-47da-4df2-b073-269494d7e5d7",
   "metadata": {},
   "source": [
    "## model for Deep CNN"
   ]
  },
  {
   "cell_type": "code",
   "execution_count": 44,
   "id": "27a2396b-e955-46b5-b328-be878189aa19",
   "metadata": {},
   "outputs": [],
   "source": [
    "# model.save(\"./models/leaf_model5.h6\", save_format='h5')"
   ]
  },
  {
   "cell_type": "code",
   "execution_count": 45,
   "id": "2a2ec2a6-276e-4482-af45-fd663021e24b",
   "metadata": {},
   "outputs": [
    {
     "name": "stdout",
     "output_type": "stream",
     "text": [
      "6/6 [==============================] - 5s 697ms/step - loss: 1.0661 - accuracy: 0.6402\n"
     ]
    },
    {
     "data": {
      "text/plain": [
       "[1.0660792589187622, 0.6402438879013062]"
      ]
     },
     "execution_count": 45,
     "metadata": {},
     "output_type": "execute_result"
    }
   ],
   "source": [
    "# model.evaluate(test_images)"
   ]
  },
  {
   "cell_type": "markdown",
   "id": "02e4c168-5519-4da1-b109-57302e45eaaf",
   "metadata": {},
   "source": [
    "* With normal CNN the accuracy is 64 percent *"
   ]
  },
  {
   "cell_type": "code",
   "execution_count": null,
   "id": "0cc17c4a-7d60-4ae8-a3a5-08c2f4bcbd44",
   "metadata": {},
   "outputs": [],
   "source": []
  },
  {
   "cell_type": "code",
   "execution_count": 382,
   "id": "bd261055-16a7-4b1d-a97d-765f2657dd76",
   "metadata": {},
   "outputs": [],
   "source": [
    "prediction_pobabilities = model.predict(test_images)"
   ]
  },
  {
   "cell_type": "code",
   "execution_count": 383,
   "id": "4924d1fa-6732-419f-bb27-cc8b158484d8",
   "metadata": {},
   "outputs": [
    {
     "data": {
      "text/plain": [
       "[1, 9, 7, 0]"
      ]
     },
     "execution_count": 383,
     "metadata": {},
     "output_type": "execute_result"
    }
   ],
   "source": [
    "test_predictions = [np.argmax(prob) for prob in prediction_pobabilities]\n",
    "test_predictions[1:5]"
   ]
  },
  {
   "cell_type": "code",
   "execution_count": 384,
   "id": "8d5de09e-0de9-46c1-ae7d-443d1526587e",
   "metadata": {},
   "outputs": [
    {
     "data": {
      "text/plain": [
       "array([[0, 1, 0, ..., 0, 0, 0],\n",
       "       [0, 0, 0, ..., 0, 0, 0],\n",
       "       [1, 1, 1, ..., 0, 0, 0],\n",
       "       ...,\n",
       "       [0, 1, 0, ..., 1, 0, 0],\n",
       "       [1, 0, 1, ..., 0, 0, 0],\n",
       "       [0, 0, 0, ..., 1, 1, 1]], dtype=int64)"
      ]
     },
     "execution_count": 384,
     "metadata": {},
     "output_type": "execute_result"
    }
   ],
   "source": [
    "cm = confusion_matrix(test_images.labels, test_predictions)\n",
    "cm"
   ]
  },
  {
   "cell_type": "code",
   "execution_count": 385,
   "id": "16f46560-facc-44e6-80f0-18972db049c1",
   "metadata": {},
   "outputs": [
    {
     "name": "stdout",
     "output_type": "stream",
     "text": [
      "              precision    recall  f1-score   support\n",
      "\n",
      "           0       0.00      0.00      0.00        10\n",
      "           1       0.00      0.00      0.00        10\n",
      "           2       0.08      0.05      0.06        19\n",
      "           3       0.00      0.00      0.00         6\n",
      "           4       0.00      0.00      0.00        13\n",
      "           5       0.06      0.06      0.06        17\n",
      "           6       0.08      0.14      0.11         7\n",
      "           7       0.09      0.11      0.10        19\n",
      "           8       0.16      0.14      0.15        21\n",
      "           9       0.07      0.07      0.07        30\n",
      "          10       0.11      0.12      0.11        26\n",
      "          11       0.00      0.00      0.00        11\n",
      "          12       0.00      0.00      0.00        10\n",
      "          13       0.10      0.14      0.12         7\n",
      "          14       0.16      0.14      0.15        21\n",
      "          15       0.00      0.00      0.00         5\n",
      "          16       0.04      0.04      0.04        24\n",
      "          17       0.00      0.00      0.00         8\n",
      "          18       0.00      0.00      0.00        17\n",
      "          19       0.00      0.00      0.00         9\n",
      "          20       0.00      0.00      0.00        12\n",
      "          21       0.00      0.00      0.00        17\n",
      "          22       0.00      0.00      0.00         7\n",
      "          23       0.00      0.00      0.00        10\n",
      "          24       0.00      0.00      0.00        10\n",
      "          25       0.00      0.00      0.00         9\n",
      "          26       0.09      0.09      0.09        23\n",
      "          27       0.10      0.08      0.09        12\n",
      "          28       0.00      0.00      0.00        11\n",
      "          29       0.25      0.17      0.20         6\n",
      "          30       0.00      0.00      0.00        11\n",
      "          31       0.08      0.08      0.08        12\n",
      "\n",
      "    accuracy                           0.05       430\n",
      "   macro avg       0.05      0.04      0.04       430\n",
      "weighted avg       0.06      0.05      0.05       430\n",
      "\n"
     ]
    }
   ],
   "source": [
    "print(classification_report(test_images.labels, test_predictions))"
   ]
  },
  {
   "cell_type": "code",
   "execution_count": 1,
   "id": "55df2cd3-c8f0-4317-9946-f0ae04d1dc97",
   "metadata": {},
   "outputs": [
    {
     "ename": "NameError",
     "evalue": "name 'tf' is not defined",
     "output_type": "error",
     "traceback": [
      "\u001b[1;31m------------------------------------------------------------\u001b[0m",
      "\u001b[1;31mNameError\u001b[0m                  Traceback (most recent call last)",
      "\u001b[1;32mC:\\Users\\DELLST~1\\AppData\\Local\\Temp/ipykernel_7096/1265361826.py\u001b[0m in \u001b[0;36m<module>\u001b[1;34m\u001b[0m\n\u001b[1;32m----> 1\u001b[1;33m \u001b[0mtf\u001b[0m\u001b[1;33m.\u001b[0m\u001b[0mkeras\u001b[0m\u001b[1;33m.\u001b[0m\u001b[0mpreprocessing\u001b[0m\u001b[1;33m.\u001b[0m\u001b[0mimage\u001b[0m\u001b[1;33m.\u001b[0m\u001b[0mload_img\u001b[0m\u001b[1;33m\u001b[0m\u001b[1;33m\u001b[0m\u001b[0m\n\u001b[0m",
      "\u001b[1;31mNameError\u001b[0m: name 'tf' is not defined"
     ]
    }
   ],
   "source": []
  },
  {
   "cell_type": "code",
   "execution_count": null,
   "id": "18cc1bc9-bc7a-4b50-a1ab-3e46bf5c2593",
   "metadata": {},
   "outputs": [],
   "source": []
  }
 ],
 "metadata": {
  "kernelspec": {
   "display_name": "Python 3 (ipykernel)",
   "language": "python",
   "name": "python3"
  },
  "language_info": {
   "codemirror_mode": {
    "name": "ipython",
    "version": 3
   },
   "file_extension": ".py",
   "mimetype": "text/x-python",
   "name": "python",
   "nbconvert_exporter": "python",
   "pygments_lexer": "ipython3",
   "version": "3.10.0"
  }
 },
 "nbformat": 4,
 "nbformat_minor": 5
}
